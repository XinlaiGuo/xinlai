{
 "cells": [
  {
   "cell_type": "markdown",
   "id": "264c4e82",
   "metadata": {},
   "source": [
    "# 1. Begin (or restart) part \"3(a)\" of the TUT Demo and interact with a ChatBot to make sure you understand how each part the Monte Hall problem code above works"
   ]
  },
  {
   "cell_type": "code",
   "execution_count": 1,
   "id": "83d3ed37",
   "metadata": {},
   "outputs": [],
   "source": [
    "import numpy as np"
   ]
  },
  {
   "cell_type": "markdown",
   "id": "4c95a266",
   "metadata": {},
   "source": [
    "numpy is imported to handle random choices and operations efficiently. Specifically, np.random.choice is used to simulate random door selection."
   ]
  },
  {
   "cell_type": "code",
   "execution_count": 2,
   "id": "52be2278",
   "metadata": {},
   "outputs": [],
   "source": [
    "all_door_options = (1, 2, 3)  # tuple of door options\n",
    "my_door_choice = 1  # default initial door choice\n",
    "i_won = 0  # counter for the number of times the contestant wins by switching\n",
    "reps = 100000  # number of repetitions for simulation"
   ]
  },
  {
   "cell_type": "markdown",
   "id": "d45b0016",
   "metadata": {},
   "source": [
    "all_door_options: A tuple representing the three doors (1, 2, and 3). Behind one of these doors is the car, and behind the others are goats.\n",
    "my_door_choice: This variable is initialized to 1, representing the door the contestant initially picks.\n",
    "i_won: A counter that tracks how many times the contestant wins by switching. This is initialized to zero and incremented each time the contestant wins.\n",
    "reps: The number of repetitions of the simulation (100,000 times). The more repetitions, the closer the result will get to the theoretical probabilities."
   ]
  },
  {
   "cell_type": "code",
   "execution_count": 6,
   "id": "c9a4c56c",
   "metadata": {},
   "outputs": [],
   "source": [
    "for i in range(reps):\n",
    "        secret_winning_door = np.random.choice(all_door_options)\n",
    "        all_door_options_list = list(all_door_options)"
   ]
  },
  {
   "cell_type": "markdown",
   "id": "768c1c8b",
   "metadata": {},
   "source": [
    "A for loop runs the simulation reps times (100,000 in this case). Each iteration represents one complete game of the Monty Hall problem."
   ]
  },
  {
   "cell_type": "markdown",
   "id": "76298143",
   "metadata": {},
   "source": [
    "secret_winning_door: Randomly selects one of the three doors (1, 2, or 3) as the door that hides the car. This simulates Monty randomly placing the car behind one of the doors.\n",
    "all_door_options_list: Converts the tuple of door options into a list so that doors can be easily removed as the game progresses."
   ]
  },
  {
   "cell_type": "code",
   "execution_count": 7,
   "id": "e863e005",
   "metadata": {},
   "outputs": [],
   "source": [
    "    all_door_options_list.remove(secret_winning_door)"
   ]
  },
  {
   "cell_type": "markdown",
   "id": "db1ed1aa",
   "metadata": {},
   "source": [
    "The door hiding the car (secret_winning_door) is removed from all_door_options_list to ensure Monty never reveals the car when opening a goat door."
   ]
  },
  {
   "cell_type": "code",
   "execution_count": 8,
   "id": "94075237",
   "metadata": {},
   "outputs": [],
   "source": [
    "    try:\n",
    "        all_door_options_list.remove(my_door_choice)\n",
    "    except ValueError:\n",
    "        pass"
   ]
  },
  {
   "cell_type": "markdown",
   "id": "148980cd",
   "metadata": {},
   "source": [
    "Purpose: After removing the door with the car, Monty tries to remove the contestant's initial door choice from the list. If the contestant's door is the same as the winning door (car), it has already been removed, which triggers a ValueError. The try-except block ensures the simulation continues without error when this happens."
   ]
  },
  {
   "cell_type": "code",
   "execution_count": 9,
   "id": "f10269f4",
   "metadata": {},
   "outputs": [],
   "source": [
    "    goat_door_reveal = np.random.choice(all_door_options_list)\n",
    "    all_door_options_list.remove(goat_door_reveal)"
   ]
  },
  {
   "cell_type": "markdown",
   "id": "cdac9910",
   "metadata": {},
   "source": [
    "goat_door_reveal: Monty reveals one of the remaining doors, which is guaranteed to be a goat. This door is randomly selected from the remaining options.\n",
    "After revealing a goat door, Monty removes it from the list (all_door_options_list.remove(goat_door_reveal)), leaving one door in the list."
   ]
  },
  {
   "cell_type": "code",
   "execution_count": 10,
   "id": "33fa36e4",
   "metadata": {},
   "outputs": [],
   "source": [
    "    if secret_winning_door != my_door_choice:\n",
    "        all_door_options_list.append(secret_winning_door)"
   ]
  },
  {
   "cell_type": "markdown",
   "id": "d8275a22",
   "metadata": {},
   "source": [
    "If the contestant’s initial door (my_door_choice) was not the winning door (car), the car door is added back to the list. This is important because we previously removed it in step 5.\n",
    "After Monty has revealed a goat, the list contains only two doors: the original choice (which may be a goat) and the other door (which could be the car or another goat)."
   ]
  },
  {
   "cell_type": "code",
   "execution_count": 11,
   "id": "d560d3ac",
   "metadata": {},
   "outputs": [],
   "source": [
    "    my_door_choice = all_door_options_list[0]"
   ]
  },
  {
   "cell_type": "markdown",
   "id": "e23bf5bc",
   "metadata": {},
   "source": [
    "The contestant swaps to the remaining door after Monty's reveal. Since only one door remains, this door is chosen by the contestant.\n"
   ]
  },
  {
   "cell_type": "code",
   "execution_count": 12,
   "id": "68fd5633",
   "metadata": {},
   "outputs": [],
   "source": [
    "    if my_door_choice == secret_winning_door:\n",
    "        i_won += 1"
   ]
  },
  {
   "cell_type": "markdown",
   "id": "49dffb02",
   "metadata": {},
   "source": [
    "This checks whether the contestant's new choice (after switching) is the door hiding the car. If the contestant chose the winning door, the i_won counter is incremented by 1."
   ]
  },
  {
   "cell_type": "code",
   "execution_count": 13,
   "id": "66337d37",
   "metadata": {},
   "outputs": [
    {
     "data": {
      "text/plain": [
       "1e-05"
      ]
     },
     "execution_count": 13,
     "metadata": {},
     "output_type": "execute_result"
    }
   ],
   "source": [
    "i_won / reps"
   ]
  },
  {
   "cell_type": "markdown",
   "id": "92b1061f",
   "metadata": {},
   "source": [
    "After running the loop for all repetitions (reps), the simulation calculates the proportion of wins by dividing i_won (the number of wins) by reps (the total number of games played).\n",
    "This value represents the probability of winning by switching."
   ]
  },
  {
   "cell_type": "markdown",
   "id": "4ee17f5d",
   "metadata": {},
   "source": [
    "Here is the full version"
   ]
  },
  {
   "cell_type": "code",
   "execution_count": 15,
   "id": "a0702a11",
   "metadata": {},
   "outputs": [
    {
     "data": {
      "text/plain": [
       "0.66431"
      ]
     },
     "execution_count": 15,
     "metadata": {},
     "output_type": "execute_result"
    }
   ],
   "source": [
    "import numpy as np\n",
    "all_door_options = (1,2,3)  # tuple\n",
    "my_door_choice = 1  # 1,2,3\n",
    "i_won = 0\n",
    "reps = 100000\n",
    "for i in range(reps):\n",
    "    secret_winning_door = np.random.choice(all_door_options)\n",
    "    all_door_options_list = list(all_door_options)\n",
    "    # take the secret_winning_door, so we don't show it as a \"goat\" losing door\n",
    "    all_door_options_list.remove(secret_winning_door)\n",
    "    try:\n",
    "        # if my_door_choice was secret_winning_door then it's already removed\n",
    "        all_door_options_list.remove(my_door_choice)\n",
    "    except:\n",
    "        pass\n",
    "    # show a \"goat\" losing door and remove it\n",
    "    goat_door_reveal = np.random.choice(all_door_options_list)\n",
    "    all_door_options_list.remove(goat_door_reveal)\n",
    "\n",
    "    # put the secret_winning_door back in if it wasn't our choice\n",
    "    # we previously removed it, so it would be shown as a  \"goat\" losing door\n",
    "    if secret_winning_door != my_door_choice:\n",
    "        all_door_options_list.append(secret_winning_door)\n",
    "    # if secret_winning_door was our choice then all that's left in the list is a \"goat\" losing door\n",
    "    # if secret_winning_door wasn't our choice then it's all that will be left in the list\n",
    "\n",
    "    # swap strategy\n",
    "    my_door_choice = all_door_options_list[0]\n",
    "\n",
    "    if my_door_choice == secret_winning_door:\n",
    "        i_won += 1\n",
    "\n",
    "i_won/reps"
   ]
  },
  {
   "cell_type": "markdown",
   "id": "5fd4f61b",
   "metadata": {},
   "source": [
    "# 2. Extend your ChatBot sessions to now address part \"3(b)\" of the TUT Demo and interact with your ChatBot to see if it can suggest a simpler, more streamlined way to code up this for loop simulation so the process is more clear and easier to understand; then, describe any preferences you have in terms of readibility or explainability between the original code and the code improvements suggested by the ChatBot"
   ]
  },
  {
   "cell_type": "markdown",
   "id": "6f01e7f7",
   "metadata": {},
   "source": [
    "### Here's a more streamlined and simplified version of the Monty Hall simulation code which is provided by Chat GPT"
   ]
  },
  {
   "cell_type": "code",
   "execution_count": 17,
   "id": "100f0af5",
   "metadata": {},
   "outputs": [
    {
     "name": "stdout",
     "output_type": "stream",
     "text": [
      "Win percentage when switching: 66.55%\n"
     ]
    }
   ],
   "source": [
    "import numpy as np\n",
    "\n",
    "# Variables\n",
    "reps = 100000  # number of repetitions for the simulation\n",
    "wins = 0  # counter for the number of wins when switching\n",
    "\n",
    "# Simulation loop\n",
    "for i in range(reps):\n",
    "    # Step 1: Randomly place the car behind one of the doors (1, 2, or 3)\n",
    "    car_door = np.random.choice([1, 2, 3])\n",
    "    \n",
    "    # Step 2: Contestant randomly picks a door\n",
    "    contestant_choice = np.random.choice([1, 2, 3])\n",
    "    \n",
    "    # Step 3: Host opens a door with a goat (not the car or contestant's choice)\n",
    "    available_doors = [door for door in [1, 2, 3] if door != contestant_choice and door != car_door]\n",
    "    host_opens = np.random.choice(available_doors)\n",
    "    \n",
    "    # Step 4: Contestant switches to the remaining door\n",
    "    remaining_door = [door for door in [1, 2, 3] if door != contestant_choice and door != host_opens][0]\n",
    "    \n",
    "    # Step 5: Check if the contestant wins by switching\n",
    "    if remaining_door == car_door:\n",
    "        wins += 1\n",
    "\n",
    "# Output the win percentage when switching\n",
    "print(f\"Win percentage when switching: {wins / reps * 100:.2f}%\")"
   ]
  },
  {
   "cell_type": "markdown",
   "id": "54ede792",
   "metadata": {},
   "source": [
    "### Describe my preferences"
   ]
  },
  {
   "cell_type": "markdown",
   "id": "7400e63c",
   "metadata": {},
   "source": [
    "Based on readibility and explainability,I think the code provided by Chatbot is more concise and easier to understand."
   ]
  },
  {
   "cell_type": "markdown",
   "id": "54ec8357",
   "metadata": {},
   "source": [
    "# 3. Submit your preferred version of the Monty Hall problem that is verified to be running and working with a final printed output of the code; then, add code comments explaining the purpose of each line of the code"
   ]
  },
  {
   "cell_type": "code",
   "execution_count": 16,
   "id": "cdf598ef",
   "metadata": {},
   "outputs": [
    {
     "name": "stdout",
     "output_type": "stream",
     "text": [
      "Win percentage when switching: 66.41%\n"
     ]
    }
   ],
   "source": [
    "import numpy as np\n",
    "\n",
    "# Variables\n",
    "reps = 100000  # number of repetitions for the simulation\n",
    "wins = 0  # counter for the number of wins when switching\n",
    "\n",
    "# Simulation loop\n",
    "for i in range(reps):\n",
    "    # Step 1: Randomly place the car behind one of the doors (1, 2, or 3)\n",
    "    car_door = np.random.choice([1, 2, 3])\n",
    "    \n",
    "    # Step 2: Contestant randomly picks a door\n",
    "    contestant_choice = np.random.choice([1, 2, 3])\n",
    "    \n",
    "    # Step 3: Host opens a door with a goat (not the car or contestant's choice)\n",
    "    available_doors = [door for door in [1, 2, 3] if door != contestant_choice and door != car_door]\n",
    "    host_opens = np.random.choice(available_doors)\n",
    "    \n",
    "    # Step 4: Contestant switches to the remaining door\n",
    "    remaining_door = [door for door in [1, 2, 3] if door != contestant_choice and door != host_opens][0]\n",
    "    \n",
    "    # Step 5: Check if the contestant wins by switching\n",
    "    if remaining_door == car_door:\n",
    "        wins += 1\n",
    "\n",
    "# Output the win percentage when switching\n",
    "print(f\"Win percentage when switching: {wins / reps * 100:.2f}%\")"
   ]
  },
  {
   "cell_type": "markdown",
   "id": "95759f7a",
   "metadata": {},
   "source": [
    "# Summary"
   ]
  },
  {
   "cell_type": "markdown",
   "id": "df6b14ad",
   "metadata": {},
   "source": [
    "### Monty Hall Problem Code:\n",
    "\n",
    "You initially asked for a Python code to simulate the Monty Hall problem, which I provided. The code simulated the Monty Hall problem where a contestant could either switch or stay with their choice to determine win percentages.\n",
    "\n",
    "### Reviewing a Complex Code:\n",
    "\n",
    "You then shared a Monty Hall simulation code that involved more detailed list manipulations and asked if I could provide a similar code but in a more streamlined form. I broke down the provided code for clarity and explained how it functioned step by step.\n",
    "\n",
    "### Simplifying the Code:\n",
    "\n",
    "I provided a more streamlined version of the Monty Hall simulation, removing redundant steps, simplifying the logic (using list comprehensions), and focusing on core operations to make the code easier to understand.\n",
    "\n",
    "### Comparison Between Old and New Code:\n",
    "\n",
    "You asked for a comparison between the original, more complex code and the streamlined version. I explained the differences in structure, door removal, switching logic, and how the new version was shorter, more readable, and efficient without affecting the outcome."
   ]
  },
  {
   "cell_type": "markdown",
   "id": "a8a24fd3",
   "metadata": {},
   "source": [
    "The link of the conversation\n",
    "https://chatgpt.com/share/66ec6304-c188-8007-a629-e977c3088717 "
   ]
  },
  {
   "cell_type": "markdown",
   "id": "11178c97",
   "metadata": {},
   "source": [
    "# 4. Watch the embedded video tutorial on Markov chains in the next Jupyter cell below to understand their application and relevance for ChatBots; then, after watching the video, start a new ChatBot session by prompting that you have code that creates a \"Markovian ChatBot\"; show it the first version of the \"Markovian ChatBot code\" below; and interact with the ChatBot session to make sure you understand how the original first version of the \"Markovian ChatBot code\" works"
   ]
  },
  {
   "cell_type": "code",
   "execution_count": 19,
   "id": "ad5dd46e",
   "metadata": {},
   "outputs": [
    {
     "data": {
      "image/jpeg": "[encoded data removed]",
      "text/html": [
       "\n",
       "        <iframe\n",
       "            width=\"550\"\n",
       "            height=\"300\"\n",
       "            src=\"https://www.youtube.com/embed/56mGTszb_iM\"\n",
       "            frameborder=\"0\"\n",
       "            allowfullscreen\n",
       "            \n",
       "        ></iframe>\n",
       "        "
      ],
      "text/plain": [
       "<IPython.lib.display.YouTubeVideo at 0x7fa5b0e81650>"
      ]
     },
     "execution_count": 19,
     "metadata": {},
     "output_type": "execute_result"
    }
   ],
   "source": [
    "# Markov Chains and Text Generation\n",
    "from IPython.display import YouTubeVideo\n",
    "YouTubeVideo('56mGTszb_iM', width = 550)"
   ]
  },
  {
   "cell_type": "markdown",
   "id": "2250d68f",
   "metadata": {},
   "source": [
    "1. Importing Libraries"
   ]
  },
  {
   "cell_type": "code",
   "execution_count": 20,
   "id": "64c69d9b",
   "metadata": {},
   "outputs": [],
   "source": [
    "import random\n",
    "from collections import defaultdict"
   ]
  },
  {
   "cell_type": "markdown",
   "id": "d15c5c4c",
   "metadata": {},
   "source": [
    "random: Used for selecting random words from the Markov chain.\n",
    "\n",
    "defaultdict: A specialized dictionary that provides a default value for nonexistent keys, which simplifies the code."
   ]
  },
  {
   "cell_type": "markdown",
   "id": "00aa62a5",
   "metadata": {},
   "source": [
    "2. Generating the Markov Chain"
   ]
  },
  {
   "cell_type": "code",
   "execution_count": 26,
   "id": "63dad30d",
   "metadata": {},
   "outputs": [],
   "source": [
    "def generate_markov_chain(conversation_data, chain_length=1):\n",
    "    words = conversation_data.split()\n",
    "    markov_chain = defaultdict(list)\n",
    "    for i in range(len(words) - chain_length):\n",
    "        key = tuple(words[i:i + chain_length])\n",
    "        next_word = words[i + chain_length]\n",
    "        markov_chain[key].append(next_word)"
   ]
  },
  {
   "cell_type": "markdown",
   "id": "e60c59c9",
   "metadata": {},
   "source": [
    "generate_markov_chain: This function takes conversation data as input and builds a Markov chain.\n",
    "\n",
    "conversation_data.split(): Splits the conversation text into a list of words.\n",
    "\n",
    "defaultdict(list): Initializes a Markov chain where each key will be a tuple of words, and the value will be a list of possible following words."
   ]
  },
  {
   "cell_type": "markdown",
   "id": "9ccf6f20",
   "metadata": {},
   "source": [
    "for i in range(len(words) - chain_length):\n",
    "\n",
    "    key = tuple(words[i:i + chain_length])\n",
    "    \n",
    "    next_word = words[i + chain_length]\n",
    "    \n",
    "    markov_chain[key].append(next_word)"
   ]
  },
  {
   "cell_type": "markdown",
   "id": "5a3bad81",
   "metadata": {},
   "source": [
    "This loop iterates over the words, creating keys based on the specified chain_length (e.g., 2 words).\n",
    "\n",
    "For each key, it appends the next word in the sequence to the list of possible continuations."
   ]
  },
  {
   "cell_type": "markdown",
   "id": "e476c142",
   "metadata": {},
   "source": [
    "3. Generating Responses"
   ]
  },
  {
   "cell_type": "code",
   "execution_count": 27,
   "id": "88e126fd",
   "metadata": {},
   "outputs": [],
   "source": [
    "def markov_chatbot_reply(markov_chain, user_input, chain_length=1, max_words=50):\n",
    "    user_words = user_input.split()\n",
    "    key = tuple(user_words[-chain_length:])"
   ]
  },
  {
   "cell_type": "markdown",
   "id": "db9b4d1e",
   "metadata": {},
   "source": [
    "markov_chatbot_reply: This function generates a response based on user input and the Markov chain.\n",
    "    \n",
    "It extracts the last chain_length words from the user input to form the starting key."
   ]
  },
  {
   "cell_type": "markdown",
   "id": "b717886a",
   "metadata": {},
   "source": [
    "Finding the Starting Key"
   ]
  },
  {
   "cell_type": "code",
   "execution_count": null,
   "id": "9c6cca78",
   "metadata": {},
   "outputs": [],
   "source": [
    "if key not in markov_chain:\n",
    "    key = random.choice(list(markov_chain.keys()))"
   ]
  },
  {
   "cell_type": "markdown",
   "id": "5672e4ab",
   "metadata": {},
   "source": [
    "If the key is not found in the Markov chain, a random key is selected to start the response."
   ]
  },
  {
   "cell_type": "markdown",
   "id": "1310e93a",
   "metadata": {},
   "source": [
    "Generating the Reply"
   ]
  },
  {
   "cell_type": "code",
   "execution_count": null,
   "id": "0b2fcca2",
   "metadata": {},
   "outputs": [],
   "source": [
    "response = list(key)\n",
    "for _ in range(max_words - chain_length):\n",
    "    next_words = markov_chain.get(key)\n",
    "    if not next_words:\n",
    "        break\n",
    "    next_word = random.choice(next_words)\n",
    "    response.append(next_word)\n",
    "    key = tuple(response[-chain_length:])"
   ]
  },
  {
   "cell_type": "markdown",
   "id": "1e687112",
   "metadata": {},
   "source": [
    "The response starts with the initial key. The loop generates additional words by randomly selecting from the list of possible next words.\n",
    "\n",
    "The loop continues until it reaches the maximum word count or if no next words are found."
   ]
  },
  {
   "cell_type": "markdown",
   "id": "adace0ab",
   "metadata": {},
   "source": [
    "4. Training and Running the Bot"
   ]
  },
  {
   "cell_type": "code",
   "execution_count": null,
   "id": "5abfe1f0",
   "metadata": {},
   "outputs": [],
   "source": [
    "conversation_data = \"\"\"\n",
    "Hello! How can I assist you today? ...\n",
    "\"\"\"\n",
    "\n",
    "chain_length = 2  # Number of words in a chain\n",
    "markov_chain = generate_markov_chain(conversation_data, chain_length)"
   ]
  },
  {
   "cell_type": "markdown",
   "id": "0682e405",
   "metadata": {},
   "source": [
    "conversation_data: This is the training text for the chatbot.\n",
    "    \n",
    "The Markov chain is generated based on this data."
   ]
  },
  {
   "cell_type": "markdown",
   "id": "1b1a5dbb",
   "metadata": {},
   "source": [
    "5. Simulating a Conversation"
   ]
  },
  {
   "cell_type": "code",
   "execution_count": null,
   "id": "b9082624",
   "metadata": {},
   "outputs": [],
   "source": [
    "print(\"Markovian ChatBot: Hello! How can I assist you today?\")\n",
    "\n",
    "while True:\n",
    "    user_input = input(\"You: \")\n",
    "    if user_input.lower() in [\"exit\", \"quit\", \"bye\"]:\n",
    "        print(\"Markovian ChatBot: Goodbye!\")\n",
    "        break\n",
    "    \n",
    "    reply = markov_chatbot_reply(markov_chain, user_input, chain_length)\n",
    "    print(\"Markovian ChatBot:\", reply)"
   ]
  },
  {
   "cell_type": "markdown",
   "id": "2be59226",
   "metadata": {},
   "source": [
    "The bot starts with a greeting and enters a loop to receive user input.\n",
    "\n",
    "If the user types an exit command, the bot says goodbye and ends the conversation.\n",
    "\n",
    "Otherwise, it generates a reply using the Markov chain and prints it."
   ]
  },
  {
   "cell_type": "markdown",
   "id": "4646dc0a",
   "metadata": {},
   "source": [
    "Here is the whole version"
   ]
  },
  {
   "cell_type": "code",
   "execution_count": null,
   "id": "1df999e5",
   "metadata": {},
   "outputs": [
    {
     "name": "stdout",
     "output_type": "stream",
     "text": [
      "Markovian ChatBot: Hello! How can I assist you today?\n"
     ]
    }
   ],
   "source": [
    "import random\n",
    "from collections import defaultdict\n",
    "\n",
    "# Step 1: Generate Markov Chain from the conversation data\n",
    "def generate_markov_chain(conversation_data, chain_length=1):\n",
    "    words = conversation_data.split()\n",
    "    markov_chain = defaultdict(list)\n",
    "\n",
    "    # Create the Markov chain by building a dictionary where each key is a tuple of 'chain_length' words,\n",
    "    # and the value is a list of possible next words.\n",
    "    for i in range(len(words) - chain_length):\n",
    "        key = tuple(words[i:i + chain_length])\n",
    "        next_word = words[i + chain_length]\n",
    "        markov_chain[key].append(next_word)\n",
    "\n",
    "    return markov_chain\n",
    "\n",
    "# Step 2: ChatBot responds using the Markov Chain\n",
    "def markov_chatbot_reply(markov_chain, user_input, chain_length=1, max_words=50):\n",
    "    user_words = user_input.split()\n",
    "    # Try to find a starting key in the Markov chain based on the user input\n",
    "    key = tuple(user_words[-chain_length:])\n",
    "    \n",
    "    # If the key isn't found, select a random starting point\n",
    "    if key not in markov_chain:\n",
    "        key = random.choice(list(markov_chain.keys()))\n",
    "\n",
    "    response = list(key)\n",
    "\n",
    "    # Generate the reply by predicting the next word\n",
    "    for _ in range(max_words - chain_length):\n",
    "        next_words = markov_chain.get(key)\n",
    "        if not next_words:\n",
    "            break\n",
    "        next_word = random.choice(next_words)\n",
    "        response.append(next_word)\n",
    "        key = tuple(response[-chain_length:])\n",
    "    \n",
    "    return ' '.join(response)\n",
    "\n",
    "# Example conversation data for the ChatBot to learn from\n",
    "conversation_data = \"\"\"\n",
    "Hello! How can I assist you today? I'm here to help with any questions you have.\n",
    "Feel free to ask me anything. Whether you have technical questions or just want to chat,\n",
    "I'm happy to assist. How are you feeling today? What's on your mind?\n",
    "\"\"\"\n",
    "\n",
    "# Step 3: Train the ChatBot\n",
    "chain_length = 2  # Number of words in a chain\n",
    "markov_chain = generate_markov_chain(conversation_data, chain_length)\n",
    "\n",
    "# Step 4: Simulate a conversation with the ChatBot\n",
    "print(\"Markovian ChatBot: Hello! How can I assist you today?\")\n",
    "\n",
    "while True:\n",
    "    user_input = input(\"You: \")  # User input\n",
    "    if user_input.lower() in [\"exit\", \"quit\", \"bye\"]:\n",
    "        print(\"Markovian ChatBot: Goodbye!\")\n",
    "        break\n",
    "    \n",
    "    reply = markov_chatbot_reply(markov_chain, user_input, chain_length)\n",
    "    print(\"Markovian ChatBot:\", reply)"
   ]
  },
  {
   "cell_type": "markdown",
   "id": "bedbefaa",
   "metadata": {},
   "source": [
    "# Summary"
   ]
  },
  {
   "cell_type": "markdown",
   "id": "bea959be",
   "metadata": {},
   "source": [
    "Markovian ChatBot: \n",
    "You shared that you have code to create a Markovian ChatBot. We discussed the basic functionality of the code, which uses a Markov chain to generate responses based on training conversation data.\n",
    "\n",
    "Code Breakdown: \n",
    "I provided an explanation of how the code works, detailing the steps for generating the Markov chain, responding to user input, and simulating a conversation. Key components included building the chain from conversation data, selecting random words for responses, and handling user input.\n",
    "\n",
    "Suggestions for Improvement: \n",
    "I offered some suggestions for enhancing the chatbot, such as allowing it to learn from ongoing conversations, improving response variety, and handling punctuation more effectively."
   ]
  },
  {
   "cell_type": "markdown",
   "id": "9e18089b",
   "metadata": {},
   "source": [
    "The link of ChatBot conversation: https://chatgpt.com/share/66ec7904-e234-8007-a93b-c5fe7442ff2e"
   ]
  },
  {
   "cell_type": "markdown",
   "id": "a8962893",
   "metadata": {},
   "source": [
    "# 5. Recreate (or resume) the previous ChatBot session from question \"4\" above, and now prompt the ChatBot session that you have a couple extensions of the code to show it, and then show it each of the extentions of the \"Markovian ChatBot code\" below in turn\n"
   ]
  },
  {
   "cell_type": "markdown",
   "id": "7c97d757",
   "metadata": {},
   "source": [
    "### 1. Without just supplying your ChatBot session with the answers, see if the ChatBot can figure out what the extensions in the code do; namely, making character specific Markov chains, and using bigrams (rather than just the previous word alone) dependency... prompt your ChatBot session with some hints if it's not seeming to \"get it\""
   ]
  },
  {
   "cell_type": "markdown",
   "id": "decfdf8b",
   "metadata": {},
   "source": [
    "I gave ChatBot three extension codes respectively and let's see if ChatBot can give me the reasonable explanation of what the code does. "
   ]
  },
  {
   "cell_type": "code",
   "execution_count": null,
   "id": "2dbcafa4",
   "metadata": {},
   "outputs": [],
   "source": [
    "This is the frist one."
   ]
  },
  {
   "cell_type": "code",
   "execution_count": null,
   "id": "571a1a1d",
   "metadata": {},
   "outputs": [],
   "source": [
    "def generate_text_with_start(markov_chain, start_words, chain_length=1, max_words=100):\n",
    "    words = start_words.split()\n",
    "    key = tuple(words[-chain_length:]) if len(words) >= chain_length else random.choice(list(markov_chain.keys()))\n",
    "    output = list(key)\n",
    "    \n",
    "    for _ in range(max_words - chain_length):\n",
    "        next_words = markov_chain.get(key)\n",
    "        if not next_words:\n",
    "            break\n",
    "        next_word = random.choice(next_words)\n",
    "        output.append(next_word)\n",
    "        key = tuple(output[-chain_length:])\n",
    "    \n",
    "    return ' '.join(output)\n",
    "\n",
    "\n",
    "start_words = \"Markov chains\"\n",
    "generated_text = generate_text_with_start(markov_chain, start_words, chain_length, max_words=50)\n",
    "print(\"Generated Text with Start:\")\n",
    "print(generated_text)"
   ]
  },
  {
   "cell_type": "markdown",
   "id": "ff8f1b9d",
   "metadata": {},
   "source": [
    "The answer of the ChatBot is\n",
    "This extension to the Markovian ChatBot adds a new function, generate_text_with_start, which allows you to generate text beginning with specific start words.\n",
    "Which is totally correct."
   ]
  },
  {
   "cell_type": "code",
   "execution_count": null,
   "id": "f9f54b4d",
   "metadata": {},
   "outputs": [],
   "source": [
    "This is the second one."
   ]
  },
  {
   "cell_type": "code",
   "execution_count": null,
   "id": "fc4d71dc",
   "metadata": {},
   "outputs": [],
   "source": [
    "def generate_character_markov_chain(character_texts, chain_length=1):\n",
    "    character_chains = {}\n",
    "    for character, text in character_texts.items():\n",
    "        character_chains[character] = generate_markov_chain(text, chain_length)\n",
    "    return character_chains\n",
    "\n",
    "\n",
    "character_texts = {\n",
    "    \"Alice\": \"Alice is curious. She likes to explore and ask questions. What is this, she wonders.\",\n",
    "    \"Bob\": \"Bob is calm and collected. He prefers to think before he speaks. He usually gives measured responses.\"\n",
    "}\n",
    "\n",
    "character_chains = generate_character_markov_chain(character_texts, chain_length)\n",
    "\n",
    "\n",
    "def generate_character_text(character_chains, character, chain_length=1, max_words=100):\n",
    "    markov_chain = character_chains[character]\n",
    "    return generate_text(markov_chain, chain_length, max_words)\n",
    "\n",
    "\n",
    "generated_text = generate_character_text(character_chains, \"Bob\", chain_length, max_words=50)\n",
    "print(\"Generated Text for Bob:\")\n",
    "print(generated_text)"
   ]
  },
  {
   "cell_type": "markdown",
   "id": "031c70f5",
   "metadata": {},
   "source": [
    "The answer of ChatBot is\n",
    "This extension introduces a method to generate separate Markov chains for different characters, allowing each character to have distinct patterns of speech or writing style.\n",
    "And it called Character-Specific Markov Chains.\n",
    "And it is correct."
   ]
  },
  {
   "cell_type": "markdown",
   "id": "96abe1f7",
   "metadata": {},
   "source": [
    "And this is the last one"
   ]
  },
  {
   "cell_type": "code",
   "execution_count": null,
   "id": "9e1356b7",
   "metadata": {},
   "outputs": [],
   "source": [
    "import random\n",
    "from collections import defaultdict\n",
    "\n",
    "\n",
    "def generate_bigram_markov_chain(text):\n",
    "    words = text.split()\n",
    "    markov_chain = defaultdict(list)\n",
    "\n",
    "\n",
    "    for i in range(len(words) - 2):\n",
    "        key = (words[i], words[i + 1])  \n",
    "        next_word = words[i + 2]  \n",
    "        markov_chain[key].append(next_word)\n",
    "    \n",
    "    return markov_chain\n",
    "\n",
    "\n",
    "def generate_bigram_text(markov_chain, max_words=100):\n",
    "\n",
    "    key = random.choice(list(markov_chain.keys()))\n",
    "    output = list(key)  \n",
    "    \n",
    "    \n",
    "    for _ in range(max_words - 2):  \n",
    "        next_words = markov_chain.get(key)\n",
    "        if not next_words:\n",
    "            break\n",
    "        next_word = random.choice(next_words)\n",
    "        output.append(next_word)\n",
    "        key = (key[1], next_word)  \n",
    "\n",
    "    return ' '.join(output)\n",
    "\n",
    "\n",
    "text = \"\"\"\n",
    "Markov chains are mathematical systems that hop from one state (a situation or set of values) to another.\n",
    "They are based on probabilities defined by conditional probabilities, and the transitions between states \n",
    "are dependent only on the current state, not on the sequence of events that preceded it.\n",
    "\"\"\"\n",
    "\n",
    "\n",
    "markov_chain = generate_bigram_markov_chain(text)\n",
    "generated_text = generate_bigram_text(markov_chain, max_words=50)\n",
    "\n",
    "print(\"Generated Text using Bigrams:\")\n",
    "print(generated_text)"
   ]
  },
  {
   "cell_type": "markdown",
   "id": "7412d38b",
   "metadata": {},
   "source": [
    "Here is the answer of ChatBot\n",
    "This extension creates a bigram Markov chain, where each key is a pair of consecutive words, and the chain generates text by predicting the next word based on these word pairs.\n",
    "And it is totally correct."
   ]
  },
  {
   "cell_type": "markdown",
   "id": "6464b1b4",
   "metadata": {},
   "source": [
    "### 2. Interact with your ChatBot session to have it explain details of the code wherever you need help understanding what the code is doing and how it works"
   ]
  },
  {
   "cell_type": "markdown",
   "id": "38c236c1",
   "metadata": {},
   "source": [
    "Here is the explanation of the first code."
   ]
  },
  {
   "cell_type": "markdown",
   "id": "31d53cab",
   "metadata": {},
   "source": [
    "This extension to the Markovian ChatBot adds a new function, generate_text_with_start, which allows you to generate text beginning with specific start words. Here's an explanation of how it works:"
   ]
  },
  {
   "cell_type": "markdown",
   "id": "15e8f8b2",
   "metadata": {},
   "source": [
    "1. Function Definition: generate_text_with_start"
   ]
  },
  {
   "cell_type": "code",
   "execution_count": null,
   "id": "b4fc03d5",
   "metadata": {},
   "outputs": [],
   "source": [
    "def generate_text_with_start(markov_chain, start_words, chain_length=1, max_words=100):\n",
    "    words = start_words.split()"
   ]
  },
  {
   "cell_type": "markdown",
   "id": "917d9f04",
   "metadata": {},
   "source": [
    "start_words: This parameter allows you to provide an initial string of words to begin the generation process.\n",
    "    \n",
    "The start words are split into a list of individual words for further processing."
   ]
  },
  {
   "cell_type": "markdown",
   "id": "5c9b93f8",
   "metadata": {},
   "source": [
    "2. Handling the Starting Key"
   ]
  },
  {
   "cell_type": "code",
   "execution_count": null,
   "id": "510b58fd",
   "metadata": {},
   "outputs": [],
   "source": [
    "key = tuple(words[-chain_length:]) if len(words) >= chain_length else random.choice(list(markov_chain.keys()))"
   ]
  },
  {
   "cell_type": "markdown",
   "id": "f75c65c8",
   "metadata": {},
   "source": [
    "If the number of start words is greater than or equal to the chain length, it uses the last chain_length words from the start words to form the starting key.\n",
    "\n",
    "If the start words are shorter than the chain length, the function randomly selects a key from the Markov chain to begin the text generation."
   ]
  },
  {
   "cell_type": "markdown",
   "id": "b53ddc24",
   "metadata": {},
   "source": [
    "3. Generating Text"
   ]
  },
  {
   "cell_type": "code",
   "execution_count": null,
   "id": "9204e729",
   "metadata": {},
   "outputs": [],
   "source": [
    "output = list(key)\n",
    "for _ in range(max_words - chain_length):\n",
    "    next_words = markov_chain.get(key)\n",
    "    if not next_words:\n",
    "        break\n",
    "    next_word = random.choice(next_words)\n",
    "    output.append(next_word)\n",
    "    key = tuple(output[-chain_length:])"
   ]
  },
  {
   "cell_type": "markdown",
   "id": "30d06fd3",
   "metadata": {},
   "source": [
    "The output list begins with the start words or the randomly chosen key.\n",
    "\n",
    "The function iterates, selecting a random next word from the Markov chain using the current key and appending it to the output.\n",
    "\n",
    "The key is updated after each iteration to reflect the last chain_length words of the output, ensuring the Markov process continues."
   ]
  },
  {
   "cell_type": "markdown",
   "id": "129c17c6",
   "metadata": {},
   "source": [
    "4. Returning the Generated Text"
   ]
  },
  {
   "cell_type": "code",
   "execution_count": null,
   "id": "7f8b4cd9",
   "metadata": {},
   "outputs": [],
   "source": [
    "return ' '.join(output)"
   ]
  },
  {
   "cell_type": "markdown",
   "id": "d1c2e202",
   "metadata": {},
   "source": [
    "Once the text generation is complete, the list of words is joined into a single string and returned."
   ]
  },
  {
   "cell_type": "markdown",
   "id": "bc207e25",
   "metadata": {},
   "source": [
    "Example Usage"
   ]
  },
  {
   "cell_type": "code",
   "execution_count": null,
   "id": "8e5c00c1",
   "metadata": {},
   "outputs": [],
   "source": [
    "start_words = \"Markov chains\"\n",
    "generated_text = generate_text_with_start(markov_chain, start_words, chain_length, max_words=50)\n",
    "print(\"Generated Text with Start:\")\n",
    "print(generated_text)"
   ]
  },
  {
   "cell_type": "markdown",
   "id": "e5e7224a",
   "metadata": {},
   "source": [
    "In this example, the generated text will start with \"Markov chains\" and then continue based on the Markov chain's probabilities."
   ]
  },
  {
   "cell_type": "markdown",
   "id": "68891384",
   "metadata": {},
   "source": [
    "Summary\n",
    "This extension allows you to provide a starting phrase for text generation, giving more control over how the response begins. It’s a useful addition if you want the chatbot to generate responses that follow a specific context or topic."
   ]
  },
  {
   "cell_type": "markdown",
   "id": "0adc8d8e",
   "metadata": {},
   "source": [
    "The explanation of the second code:"
   ]
  },
  {
   "cell_type": "markdown",
   "id": "e5832c8c",
   "metadata": {},
   "source": [
    "This extension introduces a method to generate separate Markov chains for different characters, allowing each character to have distinct patterns of speech or writing style. Here's how the new functionality works:"
   ]
  },
  {
   "cell_type": "markdown",
   "id": "c3f5e959",
   "metadata": {},
   "source": [
    "1. Generating Character-Specific Markov Chains"
   ]
  },
  {
   "cell_type": "code",
   "execution_count": null,
   "id": "b41eee8b",
   "metadata": {},
   "outputs": [],
   "source": [
    "def generate_character_markov_chain(character_texts, chain_length=1):\n",
    "    character_chains = {}\n",
    "    for character, text in character_texts.items():\n",
    "        character_chains[character] = generate_markov_chain(text, chain_length)\n",
    "    return character_chains"
   ]
  },
  {
   "cell_type": "markdown",
   "id": "f5d937a4",
   "metadata": {},
   "source": [
    "character_texts: A dictionary where the keys are character names and the values are the text specific to each character.\n",
    "    \n",
    "generate_character_markov_chain: This function creates a separate Markov chain for each character's text. It loops over the character-text pairs and uses the generate_markov_chain function to build the chain for each character.\n",
    "    \n",
    "The result is a dictionary, character_chains, where each key is a character's name, and the value is the Markov chain generated from that character's text."
   ]
  },
  {
   "cell_type": "markdown",
   "id": "b5810b3f",
   "metadata": {},
   "source": [
    "2. Character-Specific Text Generation"
   ]
  },
  {
   "cell_type": "code",
   "execution_count": null,
   "id": "b46bc03a",
   "metadata": {},
   "outputs": [],
   "source": [
    "def generate_character_text(character_chains, character, chain_length=1, max_words=100):\n",
    "    markov_chain = character_chains[character]\n",
    "    return generate_text(markov_chain, chain_length, max_words)"
   ]
  },
  {
   "cell_type": "markdown",
   "id": "fbb1d503",
   "metadata": {},
   "source": [
    "generate_character_text: This function generates text specifically for a given character.\n",
    "    \n",
    "It selects the Markov chain corresponding to the character provided in the character_chains dictionary.\n",
    "\n",
    "generate_text: This function (which you already have in place) takes the selected Markov chain and generates a sequence of words."
   ]
  },
  {
   "cell_type": "markdown",
   "id": "0edc269a",
   "metadata": {},
   "source": [
    "3. Example Character Texts and Chains"
   ]
  },
  {
   "cell_type": "code",
   "execution_count": null,
   "id": "0780912f",
   "metadata": {},
   "outputs": [],
   "source": [
    "character_texts = {\n",
    "    \"Alice\": \"Alice is curious. She likes to explore and ask questions. What is this, she wonders.\",\n",
    "    \"Bob\": \"Bob is calm and collected. He prefers to think before he speaks. He usually gives measured responses.\"\n",
    "}\n",
    "\n",
    "character_chains = generate_character_markov_chain(character_texts, chain_length)"
   ]
  },
  {
   "cell_type": "markdown",
   "id": "333ce57c",
   "metadata": {},
   "source": [
    "In this example, you have two characters, Alice and Bob, each with their own distinct text.\n",
    "\n",
    "The function generate_character_markov_chain generates separate Markov chains for Alice and Bob based on their specific descriptions."
   ]
  },
  {
   "cell_type": "markdown",
   "id": "c3c22f9b",
   "metadata": {},
   "source": [
    "4. Generating Text for a Character"
   ]
  },
  {
   "cell_type": "code",
   "execution_count": null,
   "id": "a5229ca1",
   "metadata": {},
   "outputs": [],
   "source": [
    "generated_text = generate_character_text(character_chains, \"Bob\", chain_length, max_words=50)\n",
    "print(\"Generated Text for Bob:\")\n",
    "print(generated_text)"
   ]
  },
  {
   "cell_type": "markdown",
   "id": "1d0461d6",
   "metadata": {},
   "source": [
    "In this part, you're generating text specifically for Bob by selecting his Markov chain from the character_chains dictionary.\n",
    "\n",
    "The text is generated using Bob's distinct writing style, and the result is printed."
   ]
  },
  {
   "cell_type": "markdown",
   "id": "b5ce7e39",
   "metadata": {},
   "source": [
    "Summary\n",
    "This code extension allows you to create and maintain separate Markov chains for different characters, ensuring that each character speaks or responds in a manner consistent with their personality or dialogue style. It gives you more flexibility when building character-driven chatbots or story generators."
   ]
  },
  {
   "cell_type": "markdown",
   "id": "563ed6c3",
   "metadata": {},
   "source": [
    "And the explanation for the last code"
   ]
  },
  {
   "cell_type": "markdown",
   "id": "e188dd65",
   "metadata": {},
   "source": [
    "This extension creates a bigram Markov chain, where each key is a pair of consecutive words, and the chain generates text by predicting the next word based on these word pairs. Here's a breakdown of how this bigram-based system works:"
   ]
  },
  {
   "cell_type": "markdown",
   "id": "42545bcd",
   "metadata": {},
   "source": [
    "1. Generating the Bigram Markov Chain"
   ]
  },
  {
   "cell_type": "code",
   "execution_count": null,
   "id": "de4561d5",
   "metadata": {},
   "outputs": [],
   "source": [
    "def generate_bigram_markov_chain(text):\n",
    "    words = text.split()\n",
    "    markov_chain = defaultdict(list)\n",
    "    \n",
    "    for i in range(len(words) - 2):\n",
    "        key = (words[i], words[i + 1])  \n",
    "        next_word = words[i + 2]  \n",
    "        markov_chain[key].append(next_word)\n",
    "    \n",
    "    return markov_chain"
   ]
  },
  {
   "cell_type": "markdown",
   "id": "ee551e96",
   "metadata": {},
   "source": [
    "generate_bigram_markov_chain: This function generates a bigram Markov chain.\n",
    "    \n",
    "Key: Instead of using a single word, the key here is a tuple of two consecutive words (a bigram).\n",
    "    \n",
    "Value: For each bigram key, the value is the word that follows the bigram in the text, which gets added to the list of possible next words.\n",
    "    \n",
    "This allows the chain to generate text based on pairs of words instead of just one, leading to more contextually coherent predictions."
   ]
  },
  {
   "cell_type": "markdown",
   "id": "ffa03061",
   "metadata": {},
   "source": [
    "2. Generating Text with Bigrams"
   ]
  },
  {
   "cell_type": "code",
   "execution_count": null,
   "id": "99794040",
   "metadata": {},
   "outputs": [],
   "source": [
    "def generate_bigram_text(markov_chain, max_words=100):\n",
    "    key = random.choice(list(markov_chain.keys()))\n",
    "    output = list(key)  \n",
    "    \n",
    "    for _ in range(max_words - 2):  \n",
    "        next_words = markov_chain.get(key)\n",
    "        if not next_words:\n",
    "            break\n",
    "        next_word = random.choice(next_words)\n",
    "        output.append(next_word)\n",
    "        key = (key[1], next_word)  \n",
    "    \n",
    "    return ' '.join(output)"
   ]
  },
  {
   "cell_type": "markdown",
   "id": "a98f6b19",
   "metadata": {},
   "source": [
    "generate_bigram_text: This function generates text using the bigram Markov chain.\n",
    "\n",
    "Key: It starts by selecting a random bigram (pair of words) as the initial key.\n",
    "\n",
    "It then loops up to max_words, repeatedly selecting a random next word based on the current bigram key.\n",
    "\n",
    "After appending the chosen word to the output, the key is updated to use the second word of the current key and the new word, allowing the chain to generate the next word based on the most recent bigram."
   ]
  },
  {
   "cell_type": "markdown",
   "id": "92785ba8",
   "metadata": {},
   "source": [
    "3. Example Input Text"
   ]
  },
  {
   "cell_type": "code",
   "execution_count": null,
   "id": "953ec3f6",
   "metadata": {},
   "outputs": [],
   "source": [
    "text = \"\"\"\n",
    "Markov chains are mathematical systems that hop from one state (a situation or set of values) to another.\n",
    "They are based on probabilities defined by conditional probabilities, and the transitions between states \n",
    "are dependent only on the current state, not on the sequence of events that preceded it.\n",
    "\"\"\""
   ]
  },
  {
   "cell_type": "markdown",
   "id": "a8fbed15",
   "metadata": {},
   "source": [
    "This sample text explains Markov chains and is used to train the bigram Markov chain."
   ]
  },
  {
   "cell_type": "markdown",
   "id": "b68b5444",
   "metadata": {},
   "source": [
    "4. Generating Text Using Bigrams"
   ]
  },
  {
   "cell_type": "code",
   "execution_count": null,
   "id": "c3ebff79",
   "metadata": {},
   "outputs": [],
   "source": [
    "markov_chain = generate_bigram_markov_chain(text)\n",
    "generated_text = generate_bigram_text(markov_chain, max_words=50)\n",
    "\n",
    "print(\"Generated Text using Bigrams:\")\n",
    "print(generated_text)"
   ]
  },
  {
   "cell_type": "markdown",
   "id": "47620971",
   "metadata": {},
   "source": [
    "The generated text starts from a randomly chosen bigram and continues to build text based on the chain of bigrams, using the probabilities derived from the original input text.\n",
    "\n",
    "This process is repeated until either the desired number of words is generated or no valid next words can be found."
   ]
  },
  {
   "cell_type": "markdown",
   "id": "3f27c1e7",
   "metadata": {},
   "source": [
    "Summary\n",
    "This version of the Markov chain is based on bigrams (word pairs), which typically leads to more coherent text generation compared to a simple unigram model (one word at a time). By taking the context of two words, the generated sentences tend to flow more naturally and have better continuity."
   ]
  },
  {
   "cell_type": "markdown",
   "id": "ff280926",
   "metadata": {},
   "source": [
    "https://chatgpt.com/share/66ec7904-e234-8007-a93b-c5fe7442ff2e"
   ]
  },
  {
   "cell_type": "markdown",
   "id": "acf1cab5",
   "metadata": {},
   "source": [
    "### 3. Start yet another new ChatBot session and first show the ChatBot the original \"Markovian ChatBot code\" below, and then tell ChatBot that you have an extension but this time just directly provide it the more complicated final extension without ever providing the intermediate extension code to the ChatBot session and see if it's still able to understand everything extension does; namely, making character specific Markov chains, and using bigrams (rather than just the previous word alone) dependency... prompt the ChatBot with some hints if it's not seeming to understand what you're getting at..."
   ]
  },
  {
   "cell_type": "markdown",
   "id": "9545c18c",
   "metadata": {},
   "source": [
    "I provided ChatBot the final extension code of generate_text_with_start without the intermediate extension code of the code."
   ]
  },
  {
   "cell_type": "code",
   "execution_count": null,
   "id": "9bca558e",
   "metadata": {},
   "outputs": [],
   "source": [
    "start_words = \"Markov chains\"\n",
    "generated_text = generate_text_with_start(markov_chain, start_words, chain_length, max_words=50)\n",
    "print(\"Generated Text with Start:\")\n",
    "print(generated_text)"
   ]
  },
  {
   "cell_type": "markdown",
   "id": "76a435fe",
   "metadata": {},
   "source": [
    "Here is the result."
   ]
  },
  {
   "cell_type": "markdown",
   "id": "6d16a64d",
   "metadata": {},
   "source": [
    "Here's what the full extension code does:\n",
    "\n",
    "Set Starting Phrase:\n",
    "\n",
    "start_words = \"Markov chains\" specifies that the text generation should begin with this exact phrase.\n",
    "\n",
    "Generate Text with Starting Phrase:\n",
    "\n",
    "generated_text = generate_text_with_start(markov_chain, start_words, chain_length, max_words=50) uses the generate_text_with_start() function to create text that starts with \"Markov chains\" and continues according to the Markov Chain model (markov_chain). The text is generated up to a maximum of 50 words.\n",
    "\n",
    "Print the Generated Text:\n",
    "\n",
    "print(\"Generated Text with Start:\") and print(generated_text) display the generated text that begins with the specified starting phrase.\n",
    "In essence, this snippet of code extends the functionality of your Markovian ChatBot to allow it to generate text that begins with a predefined phrase. This can be useful for creating coherent text blocks that start with a specific context or theme, enhancing the chatbot's ability to provide contextually relevant responses."
   ]
  },
  {
   "cell_type": "markdown",
   "id": "bea68845",
   "metadata": {},
   "source": [
    "Then I provided the final extension code of Character-Specific Markov Chains."
   ]
  },
  {
   "cell_type": "code",
   "execution_count": null,
   "id": "2a8ddf60",
   "metadata": {},
   "outputs": [],
   "source": [
    "generated_text = generate_character_text(character_chains, \"Bob\", chain_length, max_words=50)\n",
    "print(\"Generated Text for Bob:\")\n",
    "print(generated_text)"
   ]
  },
  {
   "cell_type": "markdown",
   "id": "8371d0d5",
   "metadata": {},
   "source": [
    "Here is the result."
   ]
  },
  {
   "cell_type": "markdown",
   "id": "ee0e0ab7",
   "metadata": {},
   "source": [
    "Here's what the full extension code likely does:\n",
    "\n",
    "Generate Character-Specific Text:\n",
    "\n",
    "generated_text = generate_character_text(character_chains, \"Bob\", chain_length, max_words=50) calls the generate_character_text() function to generate text specifically for the character \"Bob\". It uses the Markov Chain data stored in character_chains, which presumably contains separate chains for different characters.\n",
    "\n",
    "Print Character-Specific Generated Text:\n",
    "\n",
    "print(\"Generated Text for Bob:\") and print(generated_text) display the generated text associated with the character \"Bob\". This text is generated based on the Markov Chain model specific to Bob, within the limit of 50 words.\n",
    "In summary, this snippet extends the chatbot's functionality by allowing it to generate and display text that is character-specific. It utilizes the Markov Chain models tailored for different characters (like \"Bob\") to produce text that reflects the speaking style or content relevant to that particular character."
   ]
  },
  {
   "cell_type": "markdown",
   "id": "e77a05cd",
   "metadata": {},
   "source": [
    "Last, I provided the final extension code of bigram Markov chain."
   ]
  },
  {
   "cell_type": "markdown",
   "id": "ef9b673a",
   "metadata": {},
   "source": [
    "This snippet involves using a bigram model for generating text. Here’s what each part of the code does:\n",
    "\n",
    "Generate Bigram Markov Chain.\n",
    "\n",
    "Generate Text Using Bigrams.\n",
    "\n",
    "Print the Generated Text.\n",
    "\n",
    "Summary: The full extension code creates a Markov Chain model based on bigrams from a given text, then uses this model to generate new text. The text generation is constrained to a maximum of 50 words and follows the patterns observed in the bigram transitions from the training text. This approach typically produces more coherent text compared to unigrams, as it considers pairs of words to determine the next word in the sequence."
   ]
  },
  {
   "cell_type": "markdown",
   "id": "9f996bd5",
   "metadata": {},
   "source": [
    "Conclusion: Due to the lack of extension code, ChatBot can only guess the function of the snippet and several possible complete extension codes."
   ]
  },
  {
   "cell_type": "markdown",
   "id": "2e2ddf05",
   "metadata": {},
   "source": [
    "## Here's a summary of our conversation:\n",
    "\n",
    "### Markovian Chatbot:\n",
    "\n",
    "You shared the original code for a \"Markovian ChatBot\" that generates responses using a Markov Chain trained on conversation data. The chatbot predicts the next word based on word sequences and continues until the response reaches a specified length.\n",
    "\n",
    "### Extension Code Snippets:\n",
    "\n",
    "Start Words: \n",
    "You introduced an extension that generates text starting with a specific phrase (e.g., \"Markov chains\"). The chatbot begins the generated text with a provided phrase and continues using the Markov Chain model.\n",
    "Character-Specific Text: \n",
    "Another extension generates text for specific characters (e.g., \"Bob\"), using character-specific Markov Chains to create text that reflects the unique dialogue style or content for that character.\n",
    "Bigram Markov Chain: \n",
    "You shared a final extension that generates text using bigrams (pairs of consecutive words). The chatbot produces text based on transitions between pairs of words, creating more coherent responses compared to unigrams.\n",
    "\n",
    "### Code Functionality:\n",
    "\n",
    "Each extension enhances the chatbot, adding functionality for starting responses with specific phrases, tailoring responses to individual characters, and improving coherence by utilizing bigrams."
   ]
  },
  {
   "cell_type": "markdown",
   "id": "3a78b983",
   "metadata": {},
   "source": [
    "The link: https://chatgpt.com/share/66ecc128-26d4-8007-bc42-5a9ae68f0bc4"
   ]
  },
  {
   "cell_type": "markdown",
   "id": "3ca39569",
   "metadata": {},
   "source": [
    "# 6. Report on your experience interacting with ChatBots to understand the Monte Hall problem and \"Markovian ChatBot\" code"
   ]
  },
  {
   "cell_type": "markdown",
   "id": "a39e8b3e",
   "metadata": {},
   "source": [
    "### 1. Discuss how quickly the ChatBot was able to be helpful for each of the above questions, and if so, how?"
   ]
  },
  {
   "cell_type": "markdown",
   "id": "4bd57359",
   "metadata": {},
   "source": [
    "I think ChatBot is very fast in handling above questions.It not only gives accurate results to the problem-solver, but also can quickly identify some minor errors that may be difficult for humans to see. Moreover, its results are generally very comprehensive and can explain every part of the code very clearly. The speed of generating results is also very fast, just like an expert."
   ]
  },
  {
   "cell_type": "markdown",
   "id": "328a3181",
   "metadata": {},
   "source": [
    "### 2.Discuss whether or not interacting with ChatBot to try to figure things out was frustrating or unhelpful, and if so, how?"
   ]
  },
  {
   "cell_type": "markdown",
   "id": "f6194c5d",
   "metadata": {},
   "source": [
    "If we feel unhelpful or frustrating when communicating with ChatBot, I think the biggest reason may be that we did not convey the correct questions or instructions to ChatBot. ChatBot cannot understand the questions and cannot give a satisfactory answer. I think the most important thing is to let ChatBot better understand the tasks and instructions we give it so that it will not feel disappointing."
   ]
  },
  {
   "cell_type": "markdown",
   "id": "d3c6a8ba",
   "metadata": {},
   "source": [
    "### 3. Based on your experiences to date (e.g., including using ChatBots to troubleshoot coding errors in the previous homework), provide an overall assessment evaluating the usefulness of ChatBots as tools to help you understand code"
   ]
  },
  {
   "cell_type": "markdown",
   "id": "03457408",
   "metadata": {},
   "source": [
    "ChatBots is currently the best tool for learning code. It is at the highest level in terms of code understanding, finding code errors, generating code, code accuracy and code interpretation."
   ]
  },
  {
   "cell_type": "markdown",
   "id": "f195f2b0",
   "metadata": {},
   "source": [
    "# 7. Reflect on your experience interacting with ChatBot and describe how your perception of AI-driven assistance tools in the context of learning coding, statistics, and data science has been evolving (or not) since joining the course\n"
   ]
  },
  {
   "cell_type": "markdown",
   "id": "67758233",
   "metadata": {},
   "source": [
    "My initial thought was that ChatBots like Chat GPT were strictly prohibited in the course, and Chatbots could only help students write papers and do homework. However, after joining this course, I found that AI-driven assistance tools and chatbots can also help students develop in a healthy way and effectively help students understand programming or other course knowledge. There is nothing wrong with the existence of Chatbots. The most important thing is how to use chatbots and AI-driven assistance tools."
   ]
  },
  {
   "cell_type": "markdown",
   "id": "2f87257c",
   "metadata": {},
   "source": [
    "# 8. ChatBots consume text data available on the web or platforms, and thus represents a new way to \"search consensensus\" that condenses and summarizes mainstream human thought"
   ]
  },
  {
   "cell_type": "markdown",
   "id": "b77b7831",
   "metadata": {},
   "source": [
    "### 1.Start a new ChatBot session and discuss the relevance of learning and adaptability, communication, coding, and statistics and data analysis as skills in the modern world, especially with respect to career opportunities (particularly in the context of the data science industry)"
   ]
  },
  {
   "cell_type": "markdown",
   "id": "0808a2c2",
   "metadata": {},
   "source": [
    "Absolutely, these skills are incredibly valuable in the modern world, especially in fields like data science. Let’s break down their relevance:\n",
    "\n",
    "Learning and Adaptability:\n",
    "\n",
    "Importance: The rapid pace of technological advancement means that new tools, techniques, and paradigms emerge frequently. Being adaptable and committed to continuous learning helps professionals stay current and remain competitive.\n",
    "\n",
    "Career Impact: In data science, this means being open to learning new programming languages, software, or methodologies. For example, the shift from traditional machine learning to deep learning frameworks like TensorFlow and PyTorch requires adaptability.\n",
    "\n",
    "Communication:\n",
    "\n",
    "Importance: Data scientists must be able to translate complex technical findings into clear, actionable insights for stakeholders who may not have a technical background.\n",
    "\n",
    "Career Impact: Effective communication skills are crucial for presenting data findings, writing reports, and collaborating with cross-functional teams. This helps in making data-driven decisions and in convincing stakeholders of the value of data-driven insights.\n",
    "\n",
    "Coding:\n",
    "\n",
    "Importance: Coding is foundational in data science. It’s used for data manipulation, analysis, and the development of algorithms.\n",
    "\n",
    "Career Impact: Proficiency in programming languages such as Python, R, or SQL is essential. Coding skills enable data scientists to handle large datasets, automate processes, and implement machine learning models.\n",
    "\n",
    "Statistics and Data Analysis:\n",
    "\n",
    "Importance: Statistical knowledge is vital for making sense of data, conducting hypothesis testing, and building predictive models. Data analysis skills are crucial for exploring data, identifying trends, and deriving insights.\n",
    "\n",
    "Career Impact: Strong statistical and analytical skills are fundamental for any data scientist. They underpin the ability to perform rigorous analyses, validate results, and ensure the accuracy of findings.\n",
    "\n",
    "In the data science industry, these skills often intersect. For instance, coding and statistics are closely linked when implementing and evaluating models, while communication skills are essential for explaining the results of these analyses to stakeholders.\n",
    "\n",
    "Overall, mastering these skills can open up a range of career opportunities in data science, analytics, and related fields. They not only enhance technical capabilities but also improve the ability to work effectively in a collaborative environment."
   ]
  },
  {
   "cell_type": "markdown",
   "id": "d64e4953",
   "metadata": {},
   "source": [
    "### 2.See if ChatBot thinks you could be a statistician or data scientist without coding or doing data analysis, and then transition your ChatBot conversation into a career exploration discussion, using the ChatBot to identify the skills that might be the most valuable for a career that you're interested"
   ]
  },
  {
   "cell_type": "markdown",
   "id": "f3086466",
   "metadata": {},
   "source": [
    "While it’s technically possible to work in statistics or data science without extensive coding or data analysis skills, it would be quite challenging and limiting. Here’s why:\n",
    "\n",
    "Role of Coding:\n",
    "\n",
    "Data Handling: Coding is essential for efficiently handling and processing large datasets. Without coding skills, performing complex data manipulation and automation tasks can be very cumbersome.\n",
    "Model Implementation: Many data science tasks involve implementing statistical models or machine learning algorithms, which typically require coding. While some tools offer drag-and-drop interfaces, advanced work often requires custom coding.\n",
    "Customization and Flexibility: Coding allows for greater customization and flexibility in your analyses and models. Without it, you might be limited to predefined functions and tools.\n",
    "\n",
    "Role of Data Analysis:\n",
    "\n",
    "Insight Extraction: Data analysis is crucial for extracting meaningful insights from data. This involves exploring data, identifying patterns, and making data-driven decisions.\n",
    "Statistical Methods: Applying statistical methods correctly requires a good understanding of data analysis principles. Without these skills, it’s challenging to conduct rigorous analyses or validate findings.\n",
    "Practical Application: In practice, most data science projects involve significant data cleaning, exploration, and analysis, which are integral to the role.\n",
    "\n",
    "Alternatives and Augmentations:\n",
    "\n",
    "Specialized Tools: There are specialized tools like Excel, Tableau, and some no-code platforms that can handle certain aspects of data analysis and visualization without extensive coding. However, these tools have limitations compared to custom coding.\n",
    "Collaboration: In some roles, you might work alongside colleagues who handle the coding or data analysis aspects, while you focus on other areas like domain expertise or communication. But this is often less common, and having a broad skill set is generally preferred.\n",
    "\n",
    "In Summary: \n",
    "\n",
    "While you might find niche roles or specific tasks where coding and advanced data analysis are less central, for a full-fledged career as a statistician or data scientist, these skills are crucial. Investing in learning coding and data analysis will significantly enhance your capabilities and career prospects in these fields."
   ]
  },
  {
   "cell_type": "markdown",
   "id": "e10a243a",
   "metadata": {},
   "source": [
    "While various skills are crucial for a career as a statistician or data scientist, problem-solving ability stands out as one of the most valuable. Here’s why:\n",
    "\n",
    "#### Analytical Thinking:\n",
    "\n",
    "Data Exploration: Understanding and analyzing complex datasets requires a strong analytical mindset. Problem-solving skills help in identifying patterns, trends, and anomalies in data.\n",
    "\n",
    "Model Selection and Evaluation: Choosing the right statistical models or machine learning algorithms and evaluating their performance involves critical thinking and problem-solving.\n",
    "\n",
    "#### Data Interpretation:\n",
    "\n",
    "Insight Generation: Translating data findings into actionable insights and recommendations involves interpreting results and understanding their implications for business or research.\n",
    "\n",
    "#### Adaptability and Learning:\n",
    "\n",
    "Tool and Technique Mastery: The field of data science evolves rapidly. Being able to adapt to new tools, technologies, and methodologies requires a problem-solving approach and a willingness to learn continuously.\n",
    "\n",
    "#### Communication:\n",
    "\n",
    "Stakeholder Engagement: Problem-solving skills are crucial when explaining complex results to non-technical stakeholders. Effectively communicating insights and recommendations helps in driving data-driven decision-making.\n",
    "\n",
    "#### Creativity and Innovation:\n",
    "\n",
    "Novel Solutions: Solving complex problems often requires innovative approaches and creative thinking, particularly when dealing with unstructured or challenging data.\n",
    "\n",
    "#### Supporting Skills:\n",
    "\n",
    "Technical Proficiency: Coding, data analysis, and statistical knowledge support your problem-solving ability by providing the tools needed to handle and analyze data.\n",
    "Domain Knowledge: Understanding the specific domain you’re working in (e.g., finance, healthcare) enhances your ability to identify relevant problems and apply solutions effectively.\n",
    "\n",
    "In summary, while technical skills like coding, statistical knowledge, and data analysis are foundational, the ability to approach and solve problems creatively and effectively is arguably the most valuable skill for a statistician or data scientist."
   ]
  },
  {
   "cell_type": "markdown",
   "id": "287c9d69",
   "metadata": {},
   "source": [
    "### 3.Ask for a summary of this ChatBot session and paste it into your homework notebook (including link(s) to chat log histories if you're using ChatBot)"
   ]
  },
  {
   "cell_type": "markdown",
   "id": "c8ad4ab6",
   "metadata": {},
   "source": [
    "Here’s a summary of our conversations:\n",
    "\n",
    "#### Dataset Work:\n",
    "\n",
    "You’re working with the U.S. Census Income Dataset, which has 32,561 rows and 13 columns. You’ve reviewed summary statistics and are aware of the discrepancy between dataset size and descriptive statistics, which you explored using the Titanic dataset from Seaborn.\n",
    "\n",
    "#### Animal Crossing Dataset:\n",
    "\n",
    "You downloaded a dataset about Animal Crossing characters from a specific URL. No immediate action was mentioned for this dataset.\n",
    "\n",
    "#### Concept Understanding:\n",
    "\n",
    "You understand the differences between independence and multinomial distributions.\n",
    "You grasp the concepts of missing values, the role of df.shape and df.describe(), and the importance of data observations and variables.\n",
    "\n",
    "#### Skills in Data Science:\n",
    "\n",
    "Learning and Adaptability: \n",
    "\n",
    "Essential due to the fast-paced nature of technological advancements. Helps in staying current with new tools and methods.\n",
    "\n",
    "Communication:\n",
    "\n",
    "Crucial for translating technical findings into actionable insights and collaborating with non-technical stakeholders.\n",
    "\n",
    "Coding: \n",
    "\n",
    "Fundamental for data manipulation, model implementation, and custom solutions. Proficiency in languages like Python or R is key.\n",
    "\n",
    "Statistics and Data Analysis: \n",
    "\n",
    "Core to understanding and analyzing data, performing hypothesis testing, and deriving insights.\n",
    "\n",
    "#### Career Skills:\n",
    "\n",
    "Problem-Solving Ability: \n",
    "\n",
    "Considered the most valuable skill for a statistician or data scientist. It encompasses analytical thinking, data interpretation, adaptability, creativity, and effective communication.\n",
    "\n",
    "Overall, you’ve been exploring various aspects of data science, from technical skills and datasets to the broader career implications of these skills."
   ]
  },
  {
   "cell_type": "markdown",
   "id": "287d0fc7",
   "metadata": {},
   "source": [
    "https://chatgpt.com/share/66ecb5d6-450c-8007-877a-b697dfcaa6ca"
   ]
  },
  {
   "cell_type": "markdown",
   "id": "423702f6",
   "metadata": {},
   "source": [
    "### 4.Paraphrase the assessments and conclusions of your conversation in the form of a reflection on your current thoughts regarding your potential future career(s) and how you can go about building the skills you need to pursue it"
   ]
  },
  {
   "cell_type": "markdown",
   "id": "81b7296c",
   "metadata": {},
   "source": [
    "Since my current goal is to major in computer science and statistics, based on these two majors, my potential future careers are software engineer and data analyst. I think in order to achieve my goal, learning and adaptability are definitely the most basic and important, followed by mathematics and coding skills and acquiring these skills requires persistence and serious study at university.But I think the most important is perseverance and passion. Only by loving a profession can you do it best and study most easily."
   ]
  },
  {
   "cell_type": "markdown",
   "id": "180f7db7",
   "metadata": {},
   "source": [
    "### 5.Give your thoughts regarding the helpfulness or limitations of your conversation with a ChatBot, and describe the next steps you would take to pursue this conversation further if you felt the information the ChatBot provides was somewhat high level and general, and perhaps lacked the depth and detailed knowledge of a dedicated subject matter expert who had really take the time to understand the ins and outs of the industry and career path in question."
   ]
  },
  {
   "cell_type": "markdown",
   "id": "5e5cf2cd",
   "metadata": {},
   "source": [
    "Chatbot, as a chat robot, can obtain information from the Internet and provide us with a lot of useful knowledge, which means that we can learn about areas we have never explored through chatbot, but most of the chatbot's knowledge base only exists on the surface. If we want to use chatbot to make our academic or other conversations go further, it is ultimately difficult to achieve. Chatbot will only give you general and ineffective answers. I think to explore a deeper level, the only way is through formal real-life learning(like college and university)."
   ]
  },
  {
   "cell_type": "markdown",
   "id": "886261a9",
   "metadata": {},
   "source": [
    "# 9. Have you reviewed the course wiki-textbook and interacted with a ChatBot (or, if that wasn't sufficient, real people in the course piazza discussion board or TA office hours) to help you understand all the material in the tutorial and lecture that you didn't quite follow when you first saw it?"
   ]
  },
  {
   "cell_type": "markdown",
   "id": "f778442f",
   "metadata": {},
   "source": [
    "No."
   ]
  },
  {
   "cell_type": "code",
   "execution_count": null,
   "id": "91042fd6",
   "metadata": {},
   "outputs": [],
   "source": []
  }
 ],
 "metadata": {
  "kernelspec": {
   "display_name": "Python 3 (ipykernel)",
   "language": "python",
   "name": "python3"
  },
  "language_info": {
   "codemirror_mode": {
    "name": "ipython",
    "version": 3
   },
   "file_extension": ".py",
   "mimetype": "text/x-python",
   "name": "python",
   "nbconvert_exporter": "python",
   "pygments_lexer": "ipython3",
   "version": "3.11.6"
  }
 },
 "nbformat": 4,
 "nbformat_minor": 5
}
